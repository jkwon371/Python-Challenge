{
 "cells": [
  {
   "cell_type": "code",
   "execution_count": 6,
   "metadata": {},
   "outputs": [
    {
     "name": "stdout",
     "output_type": "stream",
     "text": [
      "Election Results\n",
      "--------------------------\n",
      "Total Votes: 3521001\n",
      "Khan: 63.00001050837531% (2218231)\n",
      "Correy: 19.999994319797125% (704200)\n",
      "Li: 13.999996023857989% (492940)\n",
      "O'Tooley: 2.999999147969569% (105630)\n",
      "---------------------------\n",
      "Winner: Khan\n",
      "---------------------------\n"
     ]
    }
   ],
   "source": [
    "import os\n",
    "import csv\n",
    "csvpath=os.path.join('election_data.csv')\n",
    "csvpath\n",
    "#Create the lists to store data. Initialize\n",
    "votes = 0\n",
    "candidates = []\n",
    "unique_candidate = []\n",
    "vote_count = []\n",
    "vote_percent = []\n",
    "\n",
    "# Open the CSV using the set path \n",
    "with open(csvpath, newline =\"\") as csvfile:\n",
    "    csvreader = csv.reader(csvfile, delimiter=\",\")\n",
    "    csv_header = next(csvreader)\n",
    "    for row in csvreader:\n",
    "        votes = votes + 1\n",
    "        candidate = row[2]\n",
    "        if not candidate in candidates:\n",
    "            candidates.append(row[2])\n",
    "            vote_count.append(1)\n",
    "            \n",
    "        else:\n",
    "            indexofCandidate =  candidates.index(candidate)\n",
    "            curVoteTally = vote_count[indexofCandidate]\n",
    "            vote_count[indexofCandidate] = curVoteTally+1\n",
    "            percent = []\n",
    "max_votes = vote_count[0]\n",
    "max_index = 0\n",
    "#find percentage of vote for each candidate and the winner\n",
    "for count in range(len(candidates)):\n",
    "    vote_percent = vote_count[count]/votes*100\n",
    "    percent.append(vote_percent)\n",
    "    if vote_count[count] > max_votes:\n",
    "        max_votes = vote_count[count]\n",
    "        print(max_votes)\n",
    "        max_index = count\n",
    "winner = candidates[max_index]\n",
    "#print results\n",
    "print(\"Election Results\")\n",
    "print(\"--------------------------\")\n",
    "print(f\"Total Votes: {votes}\")\n",
    "for count in range(len(candidates)):\n",
    "    print(f\"{candidates[count]}: {percent[count]}% ({vote_count[count]})\")\n",
    "print(\"---------------------------\")\n",
    "print(f\"Winner: {winner}\")\n",
    "print(\"---------------------------\")\n",
    "\n",
    "write_file = f\"pypoll_results_summary.txt\"\n",
    "\n",
    "#open write file\n",
    "filewriter = open(write_file, mode = 'w')\n",
    "\n",
    "#print analysis to file\n",
    "filewriter.write(\"Election Results\\n\")\n",
    "filewriter.write(\"--------------------------\\n\")\n",
    "filewriter.write(f\"Total Votes: {votes}\\n\")\n",
    "for count in range(len(candidates)):\n",
    "    filewriter.write(f\"{candidates[count]}: {percent[count]}% ({vote_count[count]})\\n\")\n",
    "filewriter.write(\"---------------------------\\n\")\n",
    "filewriter.write(f\"Winner: {winner}\\n\")\n",
    "filewriter.write(\"---------------------------\\n\")\n",
    "\n",
    "#close file\n",
    "filewriter.close()"
   ]
  },
  {
   "cell_type": "code",
   "execution_count": null,
   "metadata": {},
   "outputs": [],
   "source": []
  }
 ],
 "metadata": {
  "kernelspec": {
   "display_name": "Python 3",
   "language": "python",
   "name": "python3"
  },
  "language_info": {
   "codemirror_mode": {
    "name": "ipython",
    "version": 3
   },
   "file_extension": ".py",
   "mimetype": "text/x-python",
   "name": "python",
   "nbconvert_exporter": "python",
   "pygments_lexer": "ipython3",
   "version": "3.7.6"
  }
 },
 "nbformat": 4,
 "nbformat_minor": 4
}
